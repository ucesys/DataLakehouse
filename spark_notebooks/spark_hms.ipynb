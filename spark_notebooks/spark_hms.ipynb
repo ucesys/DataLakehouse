{
 "cells": [
  {
   "cell_type": "code",
   "execution_count": 1,
   "id": "22ee87ff",
   "metadata": {
    "tags": []
   },
   "outputs": [
    {
     "name": "stdout",
     "output_type": "stream",
     "text": [
      "Loading hive-site.xml from /usr/local/spark/conf/\n"
     ]
    }
   ],
   "source": [
    "import pyspark\n",
    "from pyspark.sql import SparkSession\n",
    "import os\n",
    "\n",
    "print(\"Loading hive-site.xml from\", os.environ.get(\"HADOOP_CONF_DIR\"))\n",
    "\n",
    "conf = (\n",
    "    pyspark.SparkConf()\n",
    "        .setAppName('app_name')\n",
    "        .set('spark.sql.catalog.type', 'hive')\n",
    "        .set('spark.sql.catalog.spark_catalog', 'org.apache.iceberg.spark.SparkCatalog')\n",
    "        .set('spark.sql.catalog.iceberg_catalog.io-impl', 'org.apache.iceberg.aws.s3.S3FileIO')\n",
    "        .set('spark.jars.packages', 'com.amazonaws:aws-java-sdk-bundle:1.11.1026,org.apache.hadoop:hadoop-aws:3.3.2,org.apache.iceberg:iceberg-spark-runtime-3.3_2.12:1.3.1,org.apache.iceberg:iceberg-spark3-extensions:0.13.1')\n",
    "        .set('spark.sql.extensions', 'org.apache.iceberg.spark.extensions.IcebergSparkSessionExtensions')\n",
    ")"
   ]
  },
  {
   "cell_type": "code",
   "execution_count": 2,
   "id": "253022dd",
   "metadata": {
    "scrolled": true,
    "tags": []
   },
   "outputs": [],
   "source": [
    "# Start Spark Session\n",
    "spark = SparkSession.builder.config(conf=conf).getOrCreate()"
   ]
  },
  {
   "cell_type": "code",
   "execution_count": 3,
   "id": "0f41367e",
   "metadata": {
    "tags": []
   },
   "outputs": [
    {
     "name": "stdout",
     "output_type": "stream",
     "text": [
      "++\n",
      "||\n",
      "++\n",
      "++\n",
      "\n"
     ]
    }
   ],
   "source": [
    "# Create database\n",
    "spark.sql(\"CREATE DATABASE IF NOT EXISTS demo_hms\").show()"
   ]
  },
  {
   "cell_type": "code",
   "execution_count": 4,
   "id": "1cff179c",
   "metadata": {
    "tags": []
   },
   "outputs": [
    {
     "name": "stdout",
     "output_type": "stream",
     "text": [
      "++\n",
      "||\n",
      "++\n",
      "++\n",
      "\n"
     ]
    }
   ],
   "source": [
    "# Create table\n",
    "spark.sql(\"CREATE TABLE IF NOT EXISTS demo_hms.currency (name STRING) USING iceberg;\").show()"
   ]
  },
  {
   "cell_type": "code",
   "execution_count": 5,
   "id": "4354a402",
   "metadata": {
    "tags": []
   },
   "outputs": [
    {
     "name": "stdout",
     "output_type": "stream",
     "text": [
      "++\n",
      "||\n",
      "++\n",
      "++\n",
      "\n"
     ]
    }
   ],
   "source": [
    "# Insert Some Data\n",
    "spark.sql(\"INSERT INTO demo_hms.currency VALUES ('EUR'), ('USD'), ('GBP')\").show()"
   ]
  },
  {
   "cell_type": "code",
   "execution_count": 6,
   "id": "65c1a772",
   "metadata": {
    "tags": []
   },
   "outputs": [
    {
     "name": "stdout",
     "output_type": "stream",
     "text": [
      "+----+\n",
      "|name|\n",
      "+----+\n",
      "| EUR|\n",
      "| USD|\n",
      "| GBP|\n",
      "+----+\n",
      "\n"
     ]
    }
   ],
   "source": [
    "# Query the Data\n",
    "spark.sql(\"SELECT * FROM demo_hms.currency;\").show()"
   ]
  },
  {
   "cell_type": "code",
   "execution_count": 7,
   "id": "f919b998",
   "metadata": {
    "tags": []
   },
   "outputs": [
    {
     "name": "stdout",
     "output_type": "stream",
     "text": [
      "++\n",
      "||\n",
      "++\n",
      "++\n",
      "\n"
     ]
    }
   ],
   "source": [
    "# Remove the Data\n",
    "spark.sql(\"DELETE FROM demo_hms.currency;\").show()"
   ]
  },
  {
   "cell_type": "code",
   "execution_count": 8,
   "id": "1945ed63",
   "metadata": {
    "tags": []
   },
   "outputs": [
    {
     "name": "stdout",
     "output_type": "stream",
     "text": [
      "+--------------------+-------------------+-------------------+---------+--------------------+--------------------+\n",
      "|        committed_at|        snapshot_id|          parent_id|operation|       manifest_list|             summary|\n",
      "+--------------------+-------------------+-------------------+---------+--------------------+--------------------+\n",
      "|2023-08-15 14:06:...| 961821184508105354|               null|   append|s3a://warehouse-h...|{spark.app.id -> ...|\n",
      "|2023-08-15 14:06:...|2093570691111897546| 961821184508105354|   delete|s3a://warehouse-h...|{spark.app.id -> ...|\n",
      "|2023-08-15 14:47:...|5686632845824564718|2093570691111897546|   append|s3a://warehouse-h...|{spark.app.id -> ...|\n",
      "|2023-08-15 14:48:...|6052293513425466728|5686632845824564718|   delete|s3a://warehouse-h...|{spark.app.id -> ...|\n",
      "+--------------------+-------------------+-------------------+---------+--------------------+--------------------+\n",
      "\n"
     ]
    }
   ],
   "source": [
    "# View snapshots history\n",
    "spark.sql(\"SELECT * FROM spark_catalog.demo_hms.currency.snapshots;\").show()"
   ]
  },
  {
   "cell_type": "code",
   "execution_count": 9,
   "id": "6f81787b",
   "metadata": {
    "tags": []
   },
   "outputs": [
    {
     "name": "stdout",
     "output_type": "stream",
     "text": [
      "+-----------------------+\n",
      "|committed_at           |\n",
      "+-----------------------+\n",
      "|2023-08-15 14:06:35.964|\n",
      "|2023-08-15 14:47:56.572|\n",
      "+-----------------------+\n",
      "\n"
     ]
    }
   ],
   "source": [
    "# View timestamp of snapshot when data was appended(before deletion)\n",
    "spark.sql(\"SELECT committed_at FROM spark_catalog.demo_hms.currency.snapshots WHERE operation='append'\").show(10, False)"
   ]
  },
  {
   "cell_type": "code",
   "execution_count": 10,
   "id": "bda725c9",
   "metadata": {
    "tags": []
   },
   "outputs": [
    {
     "name": "stdout",
     "output_type": "stream",
     "text": [
      "+----+\n",
      "|name|\n",
      "+----+\n",
      "| EUR|\n",
      "| USD|\n",
      "| GBP|\n",
      "+----+\n",
      "\n"
     ]
    }
   ],
   "source": [
    "# Let's query the data before deletion with time travel, replace timestamp with commited_at from above\n",
    "spark.sql(\"SELECT * FROM spark_catalog.demo_hms.currency TIMESTAMP AS OF '2023-08-15 14:06:35.964'\").show()"
   ]
  },
  {
   "cell_type": "code",
   "execution_count": 11,
   "id": "2f1d7205",
   "metadata": {
    "tags": []
   },
   "outputs": [
    {
     "name": "stdout",
     "output_type": "stream",
     "text": [
      "++\n",
      "||\n",
      "++\n",
      "++\n",
      "\n"
     ]
    }
   ],
   "source": [
    "# Cleanup\n",
    "spark.sql(\"DROP TABLE demo_hms.currency PURGE\").show()"
   ]
  },
  {
   "cell_type": "code",
   "execution_count": null,
   "id": "868ebba4",
   "metadata": {},
   "outputs": [],
   "source": []
  }
 ],
 "metadata": {
  "kernelspec": {
   "display_name": "Python 3 (ipykernel)",
   "language": "python",
   "name": "python3"
  },
  "language_info": {
   "codemirror_mode": {
    "name": "ipython",
    "version": 3
   },
   "file_extension": ".py",
   "mimetype": "text/x-python",
   "name": "python",
   "nbconvert_exporter": "python",
   "pygments_lexer": "ipython3",
   "version": "3.10.10"
  }
 },
 "nbformat": 4,
 "nbformat_minor": 5
}
