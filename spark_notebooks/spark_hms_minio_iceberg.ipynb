{
 "cells": [
  {
   "cell_type": "code",
   "execution_count": 1,
   "id": "22ee87ff",
   "metadata": {},
   "outputs": [
    {
     "name": "stdout",
     "output_type": "stream",
     "text": [
      "Loading hive-site.xml from /opt/spark/conf/\n"
     ]
    }
   ],
   "source": [
    "import pyspark\n",
    "from pyspark.sql import SparkSession\n",
    "import os\n",
    "\n",
    "print(\"Loading hive-site.xml from\", os.environ.get(\"HADOOP_CONF_DIR\"))\n",
    "\n",
    "conf = (\n",
    "    pyspark.SparkConf()\n",
    "        .setAppName('app_name')\n",
    "        .set('spark.sql.catalog.type', 'hive')\n",
    "        .set('spark.sql.catalog.spark_catalog', 'org.apache.iceberg.spark.SparkCatalog')\n",
    "        .set('spark.sql.catalog.iceberg_catalog.io-impl', 'org.apache.iceberg.aws.s3.S3FileIO')\n",
    "        .set('spark.jars.packages', 'com.amazonaws:aws-java-sdk-bundle:1.11.1026,org.apache.hadoop:hadoop-aws:3.3.2,org.apache.iceberg:iceberg-spark-runtime-3.3_2.12:1.3.1,org.apache.iceberg:iceberg-spark3-extensions:0.13.1')\n",
    "        .set('spark.sql.extensions', 'org.apache.iceberg.spark.extensions.IcebergSparkSessionExtensions')\n",
    ")"
   ]
  },
  {
   "cell_type": "code",
   "execution_count": 2,
   "id": "253022dd",
   "metadata": {
    "scrolled": true
   },
   "outputs": [
    {
     "name": "stdout",
     "output_type": "stream",
     "text": [
      ":: loading settings :: url = jar:file:/home/docker/.local/lib/python3.10/site-packages/pyspark/jars/ivy-2.5.0.jar!/org/apache/ivy/core/settings/ivysettings.xml\n"
     ]
    },
    {
     "name": "stderr",
     "output_type": "stream",
     "text": [
      "Ivy Default Cache set to: /home/docker/.ivy2/cache\n",
      "The jars for the packages stored in: /home/docker/.ivy2/jars\n",
      "com.amazonaws#aws-java-sdk-bundle added as a dependency\n",
      "org.apache.hadoop#hadoop-aws added as a dependency\n",
      "org.apache.iceberg#iceberg-spark-runtime-3.3_2.12 added as a dependency\n",
      "org.apache.iceberg#iceberg-spark3-extensions added as a dependency\n",
      ":: resolving dependencies :: org.apache.spark#spark-submit-parent-149583cf-f28f-4797-a5be-421cf18922eb;1.0\n",
      "\tconfs: [default]\n",
      "\tfound com.amazonaws#aws-java-sdk-bundle;1.11.1026 in central\n",
      "\tfound org.apache.hadoop#hadoop-aws;3.3.2 in central\n",
      "\tfound org.wildfly.openssl#wildfly-openssl;1.0.7.Final in central\n",
      "\tfound org.apache.iceberg#iceberg-spark-runtime-3.3_2.12;1.3.1 in central\n",
      "\tfound org.apache.iceberg#iceberg-spark3-extensions;0.13.1 in central\n",
      "\tfound org.antlr#antlr4;4.7.1 in central\n",
      "\tfound org.antlr#antlr4-runtime;4.7.1 in central\n",
      "\tfound org.antlr#antlr-runtime;3.5.2 in central\n",
      "\tfound org.antlr#ST4;4.0.8 in central\n",
      "\tfound org.abego.treelayout#org.abego.treelayout.core;1.0.3 in central\n",
      "\tfound org.glassfish#javax.json;1.0.4 in central\n",
      "\tfound com.ibm.icu#icu4j;58.2 in central\n",
      "\tfound org.slf4j#slf4j-api;1.7.25 in central\n",
      "\tfound com.github.stephenc.findbugs#findbugs-annotations;1.3.9-1 in central\n",
      ":: resolution report :: resolve 471ms :: artifacts dl 21ms\n",
      "\t:: modules in use:\n",
      "\tcom.amazonaws#aws-java-sdk-bundle;1.11.1026 from central in [default]\n",
      "\tcom.github.stephenc.findbugs#findbugs-annotations;1.3.9-1 from central in [default]\n",
      "\tcom.ibm.icu#icu4j;58.2 from central in [default]\n",
      "\torg.abego.treelayout#org.abego.treelayout.core;1.0.3 from central in [default]\n",
      "\torg.antlr#ST4;4.0.8 from central in [default]\n",
      "\torg.antlr#antlr-runtime;3.5.2 from central in [default]\n",
      "\torg.antlr#antlr4;4.7.1 from central in [default]\n",
      "\torg.antlr#antlr4-runtime;4.7.1 from central in [default]\n",
      "\torg.apache.hadoop#hadoop-aws;3.3.2 from central in [default]\n",
      "\torg.apache.iceberg#iceberg-spark-runtime-3.3_2.12;1.3.1 from central in [default]\n",
      "\torg.apache.iceberg#iceberg-spark3-extensions;0.13.1 from central in [default]\n",
      "\torg.glassfish#javax.json;1.0.4 from central in [default]\n",
      "\torg.slf4j#slf4j-api;1.7.25 from central in [default]\n",
      "\torg.wildfly.openssl#wildfly-openssl;1.0.7.Final from central in [default]\n",
      "\t---------------------------------------------------------------------\n",
      "\t|                  |            modules            ||   artifacts   |\n",
      "\t|       conf       | number| search|dwnlded|evicted|| number|dwnlded|\n",
      "\t---------------------------------------------------------------------\n",
      "\t|      default     |   14  |   0   |   0   |   0   ||   14  |   0   |\n",
      "\t---------------------------------------------------------------------\n",
      ":: retrieving :: org.apache.spark#spark-submit-parent-149583cf-f28f-4797-a5be-421cf18922eb\n",
      "\tconfs: [default]\n",
      "\t0 artifacts copied, 14 already retrieved (0kB/10ms)\n"
     ]
    },
    {
     "name": "stdout",
     "output_type": "stream",
     "text": [
      "23/08/15 13:46:02 WARN NativeCodeLoader: Unable to load native-hadoop library for your platform... using builtin-java classes where applicable\n"
     ]
    },
    {
     "name": "stderr",
     "output_type": "stream",
     "text": [
      "Setting default log level to \"WARN\".\n",
      "To adjust logging level use sc.setLogLevel(newLevel). For SparkR, use setLogLevel(newLevel).\n"
     ]
    }
   ],
   "source": [
    "# Start Spark Session\n",
    "spark = SparkSession.builder.config(conf=conf).getOrCreate()"
   ]
  },
  {
   "cell_type": "code",
   "execution_count": 3,
   "id": "0f41367e",
   "metadata": {},
   "outputs": [
    {
     "name": "stdout",
     "output_type": "stream",
     "text": [
      "23/08/15 13:46:06 WARN MetricsConfig: Cannot locate configuration: tried hadoop-metrics2-s3a-file-system.properties,hadoop-metrics2.properties\n",
      "++\n",
      "||\n",
      "++\n",
      "++\n",
      "\n"
     ]
    }
   ],
   "source": [
    "# Create database\n",
    "spark.sql(\"CREATE DATABASE IF NOT EXISTS demo_hms\").show()"
   ]
  },
  {
   "cell_type": "code",
   "execution_count": 4,
   "id": "1cff179c",
   "metadata": {},
   "outputs": [
    {
     "name": "stdout",
     "output_type": "stream",
     "text": [
      "++\n",
      "||\n",
      "++\n",
      "++\n",
      "\n"
     ]
    }
   ],
   "source": [
    "# Create table\n",
    "spark.sql(\"CREATE TABLE IF NOT EXISTS demo_hms.currency (name STRING) USING iceberg;\").show()"
   ]
  },
  {
   "cell_type": "code",
   "execution_count": 5,
   "id": "4354a402",
   "metadata": {},
   "outputs": [
    {
     "name": "stderr",
     "output_type": "stream",
     "text": [
      "                                                                                \r"
     ]
    },
    {
     "name": "stdout",
     "output_type": "stream",
     "text": [
      "++\n",
      "||\n",
      "++\n",
      "++\n",
      "\n"
     ]
    }
   ],
   "source": [
    "# Insert Some Data\n",
    "spark.sql(\"INSERT INTO demo_hms.currency VALUES ('EUR'), ('USD'), ('GBP')\").show()"
   ]
  },
  {
   "cell_type": "code",
   "execution_count": 6,
   "id": "65c1a772",
   "metadata": {},
   "outputs": [
    {
     "name": "stdout",
     "output_type": "stream",
     "text": [
      "+----+\n",
      "|name|\n",
      "+----+\n",
      "| EUR|\n",
      "| USD|\n",
      "| GBP|\n",
      "+----+\n",
      "\n"
     ]
    }
   ],
   "source": [
    "# Query the Data\n",
    "spark.sql(\"SELECT * FROM demo_hms.currency;\").show()"
   ]
  },
  {
   "cell_type": "code",
   "execution_count": 7,
   "id": "f919b998",
   "metadata": {},
   "outputs": [
    {
     "name": "stdout",
     "output_type": "stream",
     "text": [
      "++\n",
      "||\n",
      "++\n",
      "++\n",
      "\n"
     ]
    }
   ],
   "source": [
    "# Remove the Data\n",
    "spark.sql(\"DELETE FROM demo_hms.currency;\").show()"
   ]
  },
  {
   "cell_type": "code",
   "execution_count": 8,
   "id": "1945ed63",
   "metadata": {},
   "outputs": [
    {
     "name": "stdout",
     "output_type": "stream",
     "text": [
      "+--------------------+-------------------+-------------------+---------+--------------------+--------------------+\n",
      "|        committed_at|        snapshot_id|          parent_id|operation|       manifest_list|             summary|\n",
      "+--------------------+-------------------+-------------------+---------+--------------------+--------------------+\n",
      "|2023-08-15 13:46:...|5474710415031502818|               null|   append|s3a://warehouse-h...|{spark.app.id -> ...|\n",
      "|2023-08-15 13:46:...|3772559213968713431|5474710415031502818|   delete|s3a://warehouse-h...|{spark.app.id -> ...|\n",
      "+--------------------+-------------------+-------------------+---------+--------------------+--------------------+\n",
      "\n"
     ]
    }
   ],
   "source": [
    "# View snapshots history\n",
    "spark.sql(\"SELECT * FROM spark_catalog.demo_hms.currency.snapshots;\").show()"
   ]
  },
  {
   "cell_type": "code",
   "execution_count": 9,
   "id": "6f81787b",
   "metadata": {},
   "outputs": [
    {
     "name": "stdout",
     "output_type": "stream",
     "text": [
      "23/08/15 13:46:15 WARN SparkScanBuilder: Failed to check if IsNotNull(operation) can be pushed down: Cannot find field 'operation' in struct: struct<>\n",
      "23/08/15 13:46:15 WARN SparkScanBuilder: Failed to check if EqualTo(operation,append) can be pushed down: Cannot find field 'operation' in struct: struct<>\n",
      "+----------------------+\n",
      "|committed_at          |\n",
      "+----------------------+\n",
      "|2023-08-15 13:46:12.98|\n",
      "+----------------------+\n",
      "\n"
     ]
    }
   ],
   "source": [
    "# View timestamp of snapshot when data was appended(before deletion)\n",
    "spark.sql(\"SELECT committed_at FROM spark_catalog.demo_hms.currency.snapshots WHERE operation='append'\").show(10, False)"
   ]
  },
  {
   "cell_type": "code",
   "execution_count": 11,
   "id": "bda725c9",
   "metadata": {},
   "outputs": [
    {
     "name": "stdout",
     "output_type": "stream",
     "text": [
      "+----+\n",
      "|name|\n",
      "+----+\n",
      "| EUR|\n",
      "| USD|\n",
      "| GBP|\n",
      "+----+\n",
      "\n"
     ]
    }
   ],
   "source": [
    "# Let's query the data before deletion with time travel, replace timestamp with commited_at from above\n",
    "spark.sql(\"SELECT * FROM spark_catalog.demo_hms.currency TIMESTAMP AS OF '2023-08-15 13:46:12.98'\").show()"
   ]
  },
  {
   "cell_type": "code",
   "execution_count": null,
   "id": "2f1d7205",
   "metadata": {},
   "outputs": [],
   "source": [
    "# Cleanup\n",
    "spark.sql(\"DROP TABLE demo_hms.currency PURGE\").show()"
   ]
  },
  {
   "cell_type": "code",
   "execution_count": null,
   "id": "868ebba4",
   "metadata": {},
   "outputs": [],
   "source": []
  }
 ],
 "metadata": {
  "kernelspec": {
   "display_name": "Python 3 (ipykernel)",
   "language": "python",
   "name": "python3"
  },
  "language_info": {
   "codemirror_mode": {
    "name": "ipython",
    "version": 3
   },
   "file_extension": ".py",
   "mimetype": "text/x-python",
   "name": "python",
   "nbconvert_exporter": "python",
   "pygments_lexer": "ipython3",
   "version": "3.10.6"
  }
 },
 "nbformat": 4,
 "nbformat_minor": 5
}
